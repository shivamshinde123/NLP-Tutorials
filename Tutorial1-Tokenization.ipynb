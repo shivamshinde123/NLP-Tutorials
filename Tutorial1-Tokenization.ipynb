{
 "cells": [
  {
   "cell_type": "code",
   "execution_count": 1,
   "id": "4a7e9b14",
   "metadata": {},
   "outputs": [
    {
     "name": "stdout",
     "output_type": "stream",
     "text": [
      "Requirement already satisfied: nltk in c:\\users\\shiva\\anaconda3\\lib\\site-packages (3.7)\n",
      "Requirement already satisfied: tqdm in c:\\users\\shiva\\anaconda3\\lib\\site-packages (from nltk) (4.64.0)\n",
      "Requirement already satisfied: click in c:\\users\\shiva\\anaconda3\\lib\\site-packages (from nltk) (8.0.4)\n",
      "Requirement already satisfied: joblib in c:\\users\\shiva\\anaconda3\\lib\\site-packages (from nltk) (1.1.0)\n",
      "Requirement already satisfied: regex>=2021.8.3 in c:\\users\\shiva\\anaconda3\\lib\\site-packages (from nltk) (2022.3.15)\n",
      "Requirement already satisfied: colorama in c:\\users\\shiva\\anaconda3\\lib\\site-packages (from click->nltk) (0.4.4)\n"
     ]
    }
   ],
   "source": [
    "# !pip install nltk"
   ]
  },
  {
   "cell_type": "code",
   "execution_count": 3,
   "id": "e156ec91",
   "metadata": {},
   "outputs": [],
   "source": [
    "import nltk"
   ]
  },
  {
   "cell_type": "code",
   "execution_count": 4,
   "id": "1c5ba714",
   "metadata": {},
   "outputs": [
    {
     "name": "stdout",
     "output_type": "stream",
     "text": [
      "showing info https://raw.githubusercontent.com/nltk/nltk_data/gh-pages/index.xml\n"
     ]
    },
    {
     "data": {
      "text/plain": [
       "True"
      ]
     },
     "execution_count": 4,
     "metadata": {},
     "output_type": "execute_result"
    }
   ],
   "source": [
    "# nltk.download()"
   ]
  },
  {
   "cell_type": "code",
   "execution_count": 5,
   "id": "e153934e",
   "metadata": {},
   "outputs": [],
   "source": [
    "paragraph = \"\"\"\n",
    "            As I traveled, I noticed that in every country, whether I was watching home cooks or professional chefs, \n",
    "            and whether they were cooking over live fire or on a camp stove, the best cooks looked at the food, \n",
    "            not the heat source. I saw how good cooks obeyed sensory cues, rather than timers and thermometers. \n",
    "            They listened to the changing sounds of a sizzling sausage, watched the way a simmer becomes a boil, \n",
    "            felt how a slow-cooked pork shoulder tightens and then relaxes as hours pass, and tasted a noodle plucked \n",
    "            from boiling water to determine whether it's al dente. In order to cook instinctually, \n",
    "            I needed to learn to recognize these signals. I needed to learn how food responds to the \n",
    "            fourth element of good cooking: Heat.\n",
    "            \"\"\""
   ]
  },
  {
   "cell_type": "markdown",
   "id": "27d82794",
   "metadata": {},
   "source": [
    "<p style=\"color:#8D3DAF;\"><strong>Sentence tokenization is basically the splitting the paragraph into the sentences.</strong></p>"
   ]
  },
  {
   "cell_type": "code",
   "execution_count": 6,
   "id": "af731f48",
   "metadata": {},
   "outputs": [],
   "source": [
    "sentences = nltk.sent_tokenize(paragraph)"
   ]
  },
  {
   "cell_type": "code",
   "execution_count": 7,
   "id": "4e5cc32a",
   "metadata": {},
   "outputs": [
    {
     "data": {
      "text/plain": [
       "['\\n            As I traveled, I noticed that in every country, whether I was watching home cooks or professional chefs, \\n            and whether they were cooking over live fire or on a camp stove, the best cooks looked at the food, \\n            not the heat source.',\n",
       " 'I saw how good cooks obeyed sensory cues, rather than timers and thermometers.',\n",
       " \"They listened to the changing sounds of a sizzling sausage, watched the way a simmer becomes a boil, \\n            felt how a slow-cooked pork shoulder tightens and then relaxes as hours pass, and tasted a noodle plucked \\n            from boiling water to determine whether it's al dente.\",\n",
       " 'In order to cook instinctually, \\n            I needed to learn to recognize these signals.',\n",
       " 'I needed to learn how food responds to the \\n            fourth element of good cooking: Heat.']"
      ]
     },
     "execution_count": 7,
     "metadata": {},
     "output_type": "execute_result"
    }
   ],
   "source": [
    "sentences"
   ]
  },
  {
   "cell_type": "markdown",
   "id": "70788980",
   "metadata": {},
   "source": [
    "<p style=\"color:#8D3DAF;\"><strong>Word tokenization is basically the splitting of paragraph into the words.</strong></p>"
   ]
  },
  {
   "cell_type": "code",
   "execution_count": 8,
   "id": "ee693a0c",
   "metadata": {},
   "outputs": [],
   "source": [
    "words = nltk.word_tokenize(paragraph)"
   ]
  },
  {
   "cell_type": "code",
   "execution_count": 9,
   "id": "dc6d0b9d",
   "metadata": {
    "scrolled": false
   },
   "outputs": [
    {
     "data": {
      "text/plain": [
       "['As',\n",
       " 'I',\n",
       " 'traveled',\n",
       " ',',\n",
       " 'I',\n",
       " 'noticed',\n",
       " 'that',\n",
       " 'in',\n",
       " 'every',\n",
       " 'country',\n",
       " ',',\n",
       " 'whether',\n",
       " 'I',\n",
       " 'was',\n",
       " 'watching',\n",
       " 'home',\n",
       " 'cooks',\n",
       " 'or',\n",
       " 'professional',\n",
       " 'chefs',\n",
       " ',',\n",
       " 'and',\n",
       " 'whether',\n",
       " 'they',\n",
       " 'were',\n",
       " 'cooking',\n",
       " 'over',\n",
       " 'live',\n",
       " 'fire',\n",
       " 'or',\n",
       " 'on',\n",
       " 'a',\n",
       " 'camp',\n",
       " 'stove',\n",
       " ',',\n",
       " 'the',\n",
       " 'best',\n",
       " 'cooks',\n",
       " 'looked',\n",
       " 'at',\n",
       " 'the',\n",
       " 'food',\n",
       " ',',\n",
       " 'not',\n",
       " 'the',\n",
       " 'heat',\n",
       " 'source',\n",
       " '.',\n",
       " 'I',\n",
       " 'saw',\n",
       " 'how',\n",
       " 'good',\n",
       " 'cooks',\n",
       " 'obeyed',\n",
       " 'sensory',\n",
       " 'cues',\n",
       " ',',\n",
       " 'rather',\n",
       " 'than',\n",
       " 'timers',\n",
       " 'and',\n",
       " 'thermometers',\n",
       " '.',\n",
       " 'They',\n",
       " 'listened',\n",
       " 'to',\n",
       " 'the',\n",
       " 'changing',\n",
       " 'sounds',\n",
       " 'of',\n",
       " 'a',\n",
       " 'sizzling',\n",
       " 'sausage',\n",
       " ',',\n",
       " 'watched',\n",
       " 'the',\n",
       " 'way',\n",
       " 'a',\n",
       " 'simmer',\n",
       " 'becomes',\n",
       " 'a',\n",
       " 'boil',\n",
       " ',',\n",
       " 'felt',\n",
       " 'how',\n",
       " 'a',\n",
       " 'slow-cooked',\n",
       " 'pork',\n",
       " 'shoulder',\n",
       " 'tightens',\n",
       " 'and',\n",
       " 'then',\n",
       " 'relaxes',\n",
       " 'as',\n",
       " 'hours',\n",
       " 'pass',\n",
       " ',',\n",
       " 'and',\n",
       " 'tasted',\n",
       " 'a',\n",
       " 'noodle',\n",
       " 'plucked',\n",
       " 'from',\n",
       " 'boiling',\n",
       " 'water',\n",
       " 'to',\n",
       " 'determine',\n",
       " 'whether',\n",
       " 'it',\n",
       " \"'s\",\n",
       " 'al',\n",
       " 'dente',\n",
       " '.',\n",
       " 'In',\n",
       " 'order',\n",
       " 'to',\n",
       " 'cook',\n",
       " 'instinctually',\n",
       " ',',\n",
       " 'I',\n",
       " 'needed',\n",
       " 'to',\n",
       " 'learn',\n",
       " 'to',\n",
       " 'recognize',\n",
       " 'these',\n",
       " 'signals',\n",
       " '.',\n",
       " 'I',\n",
       " 'needed',\n",
       " 'to',\n",
       " 'learn',\n",
       " 'how',\n",
       " 'food',\n",
       " 'responds',\n",
       " 'to',\n",
       " 'the',\n",
       " 'fourth',\n",
       " 'element',\n",
       " 'of',\n",
       " 'good',\n",
       " 'cooking',\n",
       " ':',\n",
       " 'Heat',\n",
       " '.']"
      ]
     },
     "execution_count": 9,
     "metadata": {},
     "output_type": "execute_result"
    }
   ],
   "source": [
    "words"
   ]
  },
  {
   "cell_type": "code",
   "execution_count": null,
   "id": "371f08b5",
   "metadata": {},
   "outputs": [],
   "source": []
  }
 ],
 "metadata": {
  "kernelspec": {
   "display_name": "Python 3 (ipykernel)",
   "language": "python",
   "name": "python3"
  },
  "language_info": {
   "codemirror_mode": {
    "name": "ipython",
    "version": 3
   },
   "file_extension": ".py",
   "mimetype": "text/x-python",
   "name": "python",
   "nbconvert_exporter": "python",
   "pygments_lexer": "ipython3",
   "version": "3.9.12"
  }
 },
 "nbformat": 4,
 "nbformat_minor": 5
}
